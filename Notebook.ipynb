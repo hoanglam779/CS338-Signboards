{
  "nbformat": 4,
  "nbformat_minor": 0,
  "metadata": {
    "colab": {
      "provenance": []
    },
    "kernelspec": {
      "name": "python3",
      "display_name": "Python 3"
    },
    "language_info": {
      "name": "python"
    }
  },
  "cells": [
    {
      "cell_type": "markdown",
      "source": [
        "## Import libraries and dataset"
      ],
      "metadata": {
        "id": "wvbRDCmeS1UM"
      }
    },
    {
      "cell_type": "code",
      "execution_count": null,
      "metadata": {
        "id": "jn2NPG0ND8lt"
      },
      "outputs": [],
      "source": [
        "import pandas as pd\n",
        "import numpy as np\n",
        "import pickle as pkl"
      ]
    },
    {
      "cell_type": "code",
      "source": [
        "!unzip /content/dataset.zip -d /content/dataset"
      ],
      "metadata": {
        "colab": {
          "base_uri": "https://localhost:8080/"
        },
        "id": "wT-tAmg4L52Q",
        "outputId": "a5ff70ec-5c6c-428c-db82-5305ed2ed9df"
      },
      "execution_count": null,
      "outputs": [
        {
          "output_type": "stream",
          "name": "stdout",
          "text": [
            "Archive:  /content/dataset.zip\n",
            "  inflating: /content/dataset/ch_0661a3fb.bang_hieu.112614.jpg  \n",
            "  inflating: /content/dataset/ch_0c6015c6.bang_hieu.012611.jpg  \n",
            "  inflating: /content/dataset/ch_0ca438e1.bang_hieu.105209.jpg  \n",
            "  inflating: /content/dataset/ch_17e509ce.bang_hieu.105926.jpg  \n",
            "  inflating: /content/dataset/ch_193f1265.bang_hieu.110449.jpg  \n",
            "  inflating: /content/dataset/CH_1e13a596.bang_hieu.093702.jpg  \n",
            "  inflating: /content/dataset/ch_2b1276ee.bang_hieu.110236.jpg  \n",
            "  inflating: /content/dataset/ch_2bac1698.bang_hieu.103907.jpg  \n",
            "  inflating: /content/dataset/ch_311027db.bang_hieu.101332.jpg  \n",
            "  inflating: /content/dataset/ch_31271993.bang_hieu.101512.jpg  \n",
            "  inflating: /content/dataset/ch_3492e45c.bang_hieu.105806.jpg  \n",
            "  inflating: /content/dataset/ch_3d239014.bang_hieu.112558.jpg  \n",
            "  inflating: /content/dataset/ch_48c2954d.bang_hieu.111900.jpg  \n",
            "  inflating: /content/dataset/ch_52e20baa.bang_hieu.102052.jpg  \n",
            "  inflating: /content/dataset/ch_5705a6b8.bang_hieu.110321.jpg  \n",
            "  inflating: /content/dataset/ch_5af34644.bang_hieu.103913.jpg  \n",
            "  inflating: /content/dataset/ch_5b0dbaa6.bang_hieu.110943.jpg  \n",
            "  inflating: /content/dataset/ch_65eb4882.bang_hieu.111424.jpg  \n",
            "  inflating: /content/dataset/ch_6844a9fe.bang_hieu.111605.jpg  \n",
            "  inflating: /content/dataset/ch_6873f0f1.bang_hieu.070538.jpg  \n",
            "  inflating: /content/dataset/ch_7b523396.bang_hieu.102003.jpg  \n",
            "  inflating: /content/dataset/ch_84075ab5.bang_hieu.103034.jpg  \n",
            "  inflating: /content/dataset/ch_89f778d9.bang_hieu.111706.jpg  \n",
            "  inflating: /content/dataset/ch_8c66f084.bang_hieu.104222.jpg  \n",
            "  inflating: /content/dataset/ch_8f23a146.bang_hieu.100352.jpg  \n",
            "  inflating: /content/dataset/ch_901e1e4d.bang_hieu.111721.jpg  \n",
            "  inflating: /content/dataset/ch_906fabbb.bang_hieu.110422.jpg  \n",
            "  inflating: /content/dataset/ch_91ca947c.bang_hieu.042558.jpg  \n",
            "  inflating: /content/dataset/ch_99edffe9.bang_hieu.102829.jpg  \n",
            "  inflating: /content/dataset/ch_9d940222.bang_hieu.111514.jpg  \n",
            "  inflating: /content/dataset/ch_9fedbf01.bang_hieu.105915.jpg  \n",
            "  inflating: /content/dataset/ch_a1c362ce.bang_hieu.104639.jpg  \n",
            "  inflating: /content/dataset/ch_a2048308.bang_hieu.095920.jpg  \n",
            "  inflating: /content/dataset/ch_a3db487c.bang_hieu.103132.jpg  \n",
            "  inflating: /content/dataset/ch_a43738d5.bang_hieu.025601.jpg  \n",
            "  inflating: /content/dataset/ch_a7402549.bang_hieu.103926.jpg  \n",
            "  inflating: /content/dataset/ch_afa6ebcd.bang_hieu.111013.jpg  \n",
            "  inflating: /content/dataset/ch_b1d055c7.bang_hieu.110546.jpg  \n",
            "  inflating: /content/dataset/ch_b5564e39.bang_hieu.103357.jpg  \n",
            "  inflating: /content/dataset/ch_b83e85eb.bang_hieu.110259.jpg  \n",
            "  inflating: /content/dataset/ch_b92b1866.bang_hieu.102842.jpg  \n",
            "  inflating: /content/dataset/ch_c6db7c37.bang_hieu.102850.jpg  \n",
            "  inflating: /content/dataset/ch_cd380ecd.bang_hieu.104345.jpg  \n",
            "  inflating: /content/dataset/ch_ce34e5a4.bang_hieu.013138.jpg  \n",
            "  inflating: /content/dataset/ch_d7705109.bang_hieu.023718.jpg  \n",
            "  inflating: /content/dataset/ch_d7ad642b.bang_hieu.111132.jpg  \n",
            "  inflating: /content/dataset/ch_d8bb9b80.bang_hieu.110650.jpg  \n",
            "  inflating: /content/dataset/ch_de5c9b8f.bang_hieu.102136.jpg  \n",
            "  inflating: /content/dataset/ch_df46db64.bang_hieu.100123.jpg  \n",
            "  inflating: /content/dataset/ch_e0433480.bang_hieu.105304.jpg  \n",
            "  inflating: /content/dataset/ch_e1728091.bang_hieu.104003.jpg  \n",
            "  inflating: /content/dataset/ch_e625b9dc.bang_hieu.103246.jpg  \n",
            "  inflating: /content/dataset/ch_ebf76ab2.bang_hieu.110312.jpg  \n",
            "  inflating: /content/dataset/ch_edc6e5d3.bang_hieu.111147.jpg  \n",
            "  inflating: /content/dataset/ch_ee4d77f4.bang_hieu.111533.jpg  \n",
            "  inflating: /content/dataset/ch_f2513bea.bang_hieu.025709.jpg  \n",
            "  inflating: /content/dataset/ch_fe2e14c9.bang_hieu.111250.jpg  \n",
            "  inflating: /content/dataset/ch_fe555067.bang_hieu.095614.jpg  \n",
            "  inflating: /content/dataset/ch_ff20dbd4.bang_hieu.111342.jpg  \n",
            "  inflating: /content/dataset/IMG_8213.PNG  \n",
            "  inflating: /content/dataset/IMG_8214.PNG  \n",
            "  inflating: /content/dataset/IMG_8217.PNG  \n",
            "  inflating: /content/dataset/IMG_8218.PNG  \n",
            "  inflating: /content/dataset/IMG_8225.PNG  \n",
            "  inflating: /content/dataset/IMG_8226.PNG  \n",
            "  inflating: /content/dataset/IMG_8230.PNG  \n",
            "  inflating: /content/dataset/IMG_8232.PNG  \n",
            "  inflating: /content/dataset/IMG_8234.PNG  \n",
            "  inflating: /content/dataset/IMG_8236.PNG  \n",
            "  inflating: /content/dataset/IMG_8237.PNG  \n",
            "  inflating: /content/dataset/IMG_8239.PNG  \n",
            "  inflating: /content/dataset/IMG_8240.PNG  \n",
            "  inflating: /content/dataset/IMG_8241.PNG  \n",
            "  inflating: /content/dataset/IMG_8243.PNG  \n",
            "  inflating: /content/dataset/IMG_8250.PNG  \n",
            "  inflating: /content/dataset/IMG_8251.PNG  \n",
            "  inflating: /content/dataset/IMG_8255.PNG  \n",
            "  inflating: /content/dataset/IMG_8280.PNG  \n",
            "  inflating: /content/dataset/IMG_8292.PNG  \n",
            "  inflating: /content/dataset/IMG_8297.PNG  \n",
            "  inflating: /content/dataset/IMG_8302.PNG  \n",
            "  inflating: /content/dataset/IMG_8311.PNG  \n",
            "  inflating: /content/dataset/IMG_8313.PNG  \n",
            "  inflating: /content/dataset/IMG_8319.PNG  \n",
            "  inflating: /content/dataset/IMG_8322.PNG  \n",
            "  inflating: /content/dataset/IMG_8325.PNG  \n",
            "  inflating: /content/dataset/IMG_8331.PNG  \n",
            "  inflating: /content/dataset/IMG_8338.PNG  \n",
            "  inflating: /content/dataset/IMG_8339.PNG  \n",
            "  inflating: /content/dataset/IMG_8340.PNG  \n",
            "  inflating: /content/dataset/IMG_8342.PNG  \n",
            "  inflating: /content/dataset/IMG_8344.PNG  \n",
            "  inflating: /content/dataset/IMG_8346.PNG  \n",
            "  inflating: /content/dataset/IMG_8348.PNG  \n",
            "  inflating: /content/dataset/IMG_8349.PNG  \n",
            "  inflating: /content/dataset/IMG_8353.PNG  \n",
            "  inflating: /content/dataset/IMG_8356.PNG  \n",
            "  inflating: /content/dataset/IMG_8368.PNG  \n",
            "  inflating: /content/dataset/IMG_8387.PNG  \n",
            "  inflating: /content/dataset/IMG_8389.PNG  \n",
            "  inflating: /content/dataset/IMG_8390.PNG  \n",
            "  inflating: /content/dataset/IMG_8391.PNG  \n",
            "  inflating: /content/dataset/IMG_8394.PNG  \n",
            "  inflating: /content/dataset/IMG_8395.PNG  \n",
            "  inflating: /content/dataset/IMG_8397.PNG  \n",
            "  inflating: /content/dataset/IMG_8400.PNG  \n",
            "  inflating: /content/dataset/IMG_8407.PNG  \n",
            "  inflating: /content/dataset/IMG_8410.PNG  \n",
            "  inflating: /content/dataset/IMG_8411.PNG  \n",
            "  inflating: /content/dataset/IMG_8416.PNG  \n",
            "  inflating: /content/dataset/IMG_8427.PNG  \n",
            "  inflating: /content/dataset/IMG_8432.PNG  \n",
            "  inflating: /content/dataset/IMG_8434.PNG  \n",
            "  inflating: /content/dataset/IMG_8435.PNG  \n",
            "  inflating: /content/dataset/IMG_8441.PNG  \n",
            "  inflating: /content/dataset/IMG_8443.PNG  \n",
            "  inflating: /content/dataset/IMG_8454.PNG  \n",
            "  inflating: /content/dataset/IMG_8456.PNG  \n",
            "  inflating: /content/dataset/IMG_8463.PNG  \n",
            "  inflating: /content/dataset/IMG_8465.PNG  \n",
            "  inflating: /content/dataset/IMG_8466.PNG  \n",
            "  inflating: /content/dataset/IMG_8472.PNG  \n",
            "  inflating: /content/dataset/IMG_8473.PNG  \n",
            "  inflating: /content/dataset/IMG_8474.PNG  \n",
            "  inflating: /content/dataset/IMG_8475.PNG  \n",
            "  inflating: /content/dataset/IMG_8480.PNG  \n",
            "  inflating: /content/dataset/IMG_8481.PNG  \n",
            "  inflating: /content/dataset/IMG_8484.PNG  \n",
            "  inflating: /content/dataset/IMG_8490.PNG  \n",
            "  inflating: /content/dataset/IMG_8505.PNG  \n",
            "  inflating: /content/dataset/IMG_8513.PNG  \n",
            "  inflating: /content/dataset/IMG_8514.PNG  \n",
            "  inflating: /content/dataset/IMG_8515.PNG  \n",
            "  inflating: /content/dataset/IMG_8522.PNG  \n",
            "  inflating: /content/dataset/IMG_8525.PNG  \n",
            "  inflating: /content/dataset/IMG_8532.PNG  \n",
            "  inflating: /content/dataset/IMG_8534.PNG  \n",
            "  inflating: /content/dataset/IMG_8557.PNG  \n",
            "  inflating: /content/dataset/IMG_8559.PNG  \n",
            "  inflating: /content/dataset/IMG_8567.PNG  \n",
            "  inflating: /content/dataset/IMG_8568.PNG  \n",
            "  inflating: /content/dataset/IMG_8584.PNG  \n",
            "  inflating: /content/dataset/IMG_8586.PNG  \n",
            "  inflating: /content/dataset/IMG_8588.PNG  \n",
            "  inflating: /content/dataset/IMG_8590.PNG  \n",
            "  inflating: /content/dataset/IMG_8595.PNG  \n",
            "  inflating: /content/dataset/IMG_8596.PNG  \n",
            "  inflating: /content/dataset/IMG_8599.PNG  \n",
            "  inflating: /content/dataset/IMG_8602.PNG  \n",
            "  inflating: /content/dataset/IMG_8605.PNG  \n",
            "  inflating: /content/dataset/IMG_8607.PNG  \n",
            "  inflating: /content/dataset/IMG_8609.PNG  \n",
            "  inflating: /content/dataset/IMG_8611.PNG  \n",
            "  inflating: /content/dataset/IMG_8615.PNG  \n",
            "  inflating: /content/dataset/IMG_8616.PNG  \n",
            "  inflating: /content/dataset/IMG_8620.PNG  \n",
            "  inflating: /content/dataset/IMG_8622.PNG  \n",
            "  inflating: /content/dataset/IMG_8623.PNG  \n",
            "  inflating: /content/dataset/IMG_8624.PNG  \n"
          ]
        }
      ]
    },
    {
      "cell_type": "code",
      "source": [
        "from google.colab import auth\n",
        "auth.authenticate_user()\n",
        "\n",
        "import gspread\n",
        "from google.auth import default\n",
        "creds, _ = default()\n",
        "\n",
        "gc = gspread.authorize(creds)\n",
        "\n",
        "url = \"https://docs.google.com/spreadsheets/d/1M4LiNR_uOGSLUke82OjuuYdhEwYc8wKAkMUZil-zenY\"\n",
        "\n",
        "wb = gc.open_by_url(url)\n",
        "# worksheet = gc.open().sheet1\n",
        "worksheet = wb.get_worksheet(0)\n",
        "\n",
        "# get_all_values gives a list of rows.\n",
        "rows = worksheet.get_all_values()\n",
        "# print(rows)\n",
        "df = pd.DataFrame.from_records(rows[1:], columns=rows[0])\n",
        "# df = df[1:]\n",
        "df = df.replace('','No phone number')\n",
        "\n",
        "df.head()"
      ],
      "metadata": {
        "id": "uRxEYxkx8he5"
      },
      "execution_count": null,
      "outputs": []
    },
    {
      "cell_type": "code",
      "source": [
        "from google.colab.patches import cv2_imshow\n",
        "import shutil\n",
        "import cv2 as cv\n",
        "from tqdm import tqdm\n",
        "\n",
        "dir = \"/content/dataset/\"\n",
        "listfile = df.Name\n",
        "\n",
        "for i in range(len(listfile[:5])):\n",
        "  img = cv.imread(dir + listfile[i])\n",
        "  cv2_imshow(img)\n",
        "  print(\"Phone number ground truth: \",df['Numbers ground truth'][i])"
      ],
      "metadata": {
        "colab": {
          "base_uri": "https://localhost:8080/",
          "height": 1000
        },
        "id": "RcsFPb5MK-FB",
        "outputId": "9edbedc1-e32c-4a0a-f315-fa93dabb0045"
      },
      "execution_count": null,
      "outputs": []
    },
    {
      "cell_type": "markdown",
      "source": [
        "## Run ocr"
      ],
      "metadata": {
        "id": "adG5dNwfTDcO"
      }
    },
    {
      "cell_type": "code",
      "source": [
        "import google.generativeai as genai\n",
        "import google.ai.generativelanguage as glm\n",
        "\n",
        "API_KEY = input(\"Enter your Gemini API key: \")\n",
        "genai.configure(api_key=API_KEY)\n",
        "\n",
        "model = genai.GenerativeModel(model_name=\"gemini-1.5-flash\")"
      ],
      "metadata": {
        "id": "a4ela3sp6LPJ"
      },
      "execution_count": null,
      "outputs": []
    },
    {
      "cell_type": "code",
      "source": [
        "import PIL.Image\n",
        "import time\n",
        "\n",
        "y_gemini = []\n",
        "prompt = \"Extract only the one most prominent phone number and closest to the center of this signboard. Answer should contain 10 or 11 digits and not contain any other text. If theres no phone number in the image, return 'No phone number'.\"\n",
        "\n",
        "for i in tqdm(range(len(listfile))):\n",
        "  if (i+1) % 14 == 0:\n",
        "    time.sleep(50)\n",
        "  sample_file = PIL.Image.open(dir + listfile[i])\n",
        "  response = model.generate_content([prompt, sample_file], stream=True)\n",
        "  response.resolve()\n",
        "  y_gemini.append(response.text)\n",
        "  print(i,response.text)"
      ],
      "metadata": {
        "id": "TO6XoHvT8k2U"
      },
      "execution_count": null,
      "outputs": []
    },
    {
      "cell_type": "code",
      "source": [
        "import pickle\n",
        "with open('y_gemini.pkl', 'wb') as f:\n",
        "  pkl.dump(y_gemini, f)"
      ],
      "metadata": {
        "id": "Nh23PeOMmdA4"
      },
      "execution_count": null,
      "outputs": []
    },
    {
      "cell_type": "code",
      "source": [
        "y_gemini"
      ],
      "metadata": {
        "id": "Dhf4fnzI8nNH"
      },
      "execution_count": null,
      "outputs": []
    },
    {
      "cell_type": "markdown",
      "source": [
        "## Evaluate"
      ],
      "metadata": {
        "id": "9IF5uD3mSxo1"
      }
    },
    {
      "cell_type": "code",
      "source": [
        "!pip install thefuzz"
      ],
      "metadata": {
        "id": "hWbzs2fUSi1u",
        "colab": {
          "base_uri": "https://localhost:8080/"
        },
        "outputId": "8538e3e7-83fb-403b-8b2f-5e9af5f90c9c"
      },
      "execution_count": null,
      "outputs": [
        {
          "output_type": "stream",
          "name": "stdout",
          "text": [
            "Collecting thefuzz\n",
            "  Downloading thefuzz-0.22.1-py3-none-any.whl.metadata (3.9 kB)\n",
            "Collecting rapidfuzz<4.0.0,>=3.0.0 (from thefuzz)\n",
            "  Downloading rapidfuzz-3.11.0-cp310-cp310-manylinux_2_17_x86_64.manylinux2014_x86_64.whl.metadata (11 kB)\n",
            "Downloading thefuzz-0.22.1-py3-none-any.whl (8.2 kB)\n",
            "Downloading rapidfuzz-3.11.0-cp310-cp310-manylinux_2_17_x86_64.manylinux2014_x86_64.whl (3.1 MB)\n",
            "\u001b[2K   \u001b[90m━━━━━━━━━━━━━━━━━━━━━━━━━━━━━━━━━━━━━━━━\u001b[0m \u001b[32m3.1/3.1 MB\u001b[0m \u001b[31m29.0 MB/s\u001b[0m eta \u001b[36m0:00:00\u001b[0m\n",
            "\u001b[?25hInstalling collected packages: rapidfuzz, thefuzz\n",
            "Successfully installed rapidfuzz-3.11.0 thefuzz-0.22.1\n"
          ]
        }
      ]
    },
    {
      "cell_type": "code",
      "source": [
        "import pickle as pkl\n",
        "with open('y_gemini.pkl', 'rb') as f:\n",
        "  y_gemini = pkl.load(f)"
      ],
      "metadata": {
        "id": "0cdTerZ9tsVL"
      },
      "execution_count": null,
      "outputs": []
    },
    {
      "cell_type": "code",
      "source": [
        "from thefuzz import fuzz\n",
        "\n",
        "y = df['Numbers ground truth']\n",
        "preds = []\n",
        "target = []\n",
        "\n",
        "total = 0\n",
        "for i in range(0, len(y)):\n",
        "  n1 = ''.join([j for j in str(y[i]) if j.isdigit()])\n",
        "  ng = ''.join([j for j in y_gemini[i] if j.isdigit()])\n",
        "  preds.append(ng)\n",
        "  target.append(n1)\n",
        "  print(fuzz.ratio(n1, ng), end='\\t')\n",
        "  total += fuzz.ratio(n1, ng)\n",
        "  if i % 10 == 0:\n",
        "    print()\n",
        "print()\n",
        "print('Average: ' + str(total / len(y)))"
      ],
      "metadata": {
        "colab": {
          "base_uri": "https://localhost:8080/"
        },
        "id": "kdkCHynStbVs",
        "outputId": "4381d334-f19f-425b-f91e-4394a4ee49b7"
      },
      "execution_count": null,
      "outputs": [
        {
          "output_type": "stream",
          "name": "stdout",
          "text": [
            "100\t\n",
            "100\t100\t100\t100\t100\t100\t100\t50\t100\t100\t\n",
            "100\t100\t100\t100\t100\t100\t100\t100\t100\t100\t\n",
            "100\t100\t100\t100\t100\t100\t100\t100\t100\t100\t\n",
            "100\t95\t100\t100\t100\t100\t100\t100\t100\t100\t\n",
            "100\t100\t100\t100\t100\t100\t100\t100\t100\t100\t\n",
            "100\t100\t100\t100\t100\t100\t100\t100\t100\t100\t\n",
            "100\t100\t100\t100\t100\t100\t100\t100\t95\t100\t\n",
            "100\t0\t100\t100\t100\t100\t100\t100\t100\t40\t\n",
            "100\t100\t100\t100\t100\t100\t100\t100\t100\t100\t\n",
            "100\t50\t100\t100\t100\t100\t100\t100\t100\t100\t\n",
            "100\t100\t100\t100\t90\t100\t100\t100\t100\t60\t\n",
            "40\t100\t100\t100\t80\t100\t60\t100\t100\t100\t\n",
            "90\t100\t100\t100\t30\t100\t100\t80\t100\t100\t\n",
            "40\t82\t30\t100\t90\t40\t100\t100\t95\t30\t\n",
            "100\t80\t40\t40\t100\t100\t100\t40\t50\t100\t\n",
            "100\t40\t100\t100\t90\t90\t90\t100\t\n",
            "Average: 92.62264150943396\n"
          ]
        }
      ]
    },
    {
      "cell_type": "code",
      "source": [
        "!pip install torchmetrics"
      ],
      "metadata": {
        "colab": {
          "base_uri": "https://localhost:8080/"
        },
        "id": "tDvsXvZ1M50i",
        "outputId": "1b95620f-ef63-493d-d562-b98133894e3d"
      },
      "execution_count": null,
      "outputs": [
        {
          "output_type": "stream",
          "name": "stdout",
          "text": [
            "Collecting torchmetrics\n",
            "  Downloading torchmetrics-1.6.1-py3-none-any.whl.metadata (21 kB)\n",
            "Requirement already satisfied: numpy>1.20.0 in /usr/local/lib/python3.10/dist-packages (from torchmetrics) (1.26.4)\n",
            "Requirement already satisfied: packaging>17.1 in /usr/local/lib/python3.10/dist-packages (from torchmetrics) (24.2)\n",
            "Requirement already satisfied: torch>=2.0.0 in /usr/local/lib/python3.10/dist-packages (from torchmetrics) (2.5.1+cu121)\n",
            "Collecting lightning-utilities>=0.8.0 (from torchmetrics)\n",
            "  Downloading lightning_utilities-0.11.9-py3-none-any.whl.metadata (5.2 kB)\n",
            "Requirement already satisfied: setuptools in /usr/local/lib/python3.10/dist-packages (from lightning-utilities>=0.8.0->torchmetrics) (75.1.0)\n",
            "Requirement already satisfied: typing-extensions in /usr/local/lib/python3.10/dist-packages (from lightning-utilities>=0.8.0->torchmetrics) (4.12.2)\n",
            "Requirement already satisfied: filelock in /usr/local/lib/python3.10/dist-packages (from torch>=2.0.0->torchmetrics) (3.16.1)\n",
            "Requirement already satisfied: networkx in /usr/local/lib/python3.10/dist-packages (from torch>=2.0.0->torchmetrics) (3.4.2)\n",
            "Requirement already satisfied: jinja2 in /usr/local/lib/python3.10/dist-packages (from torch>=2.0.0->torchmetrics) (3.1.4)\n",
            "Requirement already satisfied: fsspec in /usr/local/lib/python3.10/dist-packages (from torch>=2.0.0->torchmetrics) (2024.10.0)\n",
            "Requirement already satisfied: sympy==1.13.1 in /usr/local/lib/python3.10/dist-packages (from torch>=2.0.0->torchmetrics) (1.13.1)\n",
            "Requirement already satisfied: mpmath<1.4,>=1.1.0 in /usr/local/lib/python3.10/dist-packages (from sympy==1.13.1->torch>=2.0.0->torchmetrics) (1.3.0)\n",
            "Requirement already satisfied: MarkupSafe>=2.0 in /usr/local/lib/python3.10/dist-packages (from jinja2->torch>=2.0.0->torchmetrics) (3.0.2)\n",
            "Downloading torchmetrics-1.6.1-py3-none-any.whl (927 kB)\n",
            "\u001b[2K   \u001b[90m━━━━━━━━━━━━━━━━━━━━━━━━━━━━━━━━━━━━━━━━\u001b[0m \u001b[32m927.3/927.3 kB\u001b[0m \u001b[31m14.5 MB/s\u001b[0m eta \u001b[36m0:00:00\u001b[0m\n",
            "\u001b[?25hDownloading lightning_utilities-0.11.9-py3-none-any.whl (28 kB)\n",
            "Installing collected packages: lightning-utilities, torchmetrics\n",
            "Successfully installed lightning-utilities-0.11.9 torchmetrics-1.6.1\n"
          ]
        }
      ]
    },
    {
      "cell_type": "code",
      "source": [
        "from torchmetrics.text import CharErrorRate\n",
        "cer = CharErrorRate()\n",
        "cer(preds, target)"
      ],
      "metadata": {
        "colab": {
          "base_uri": "https://localhost:8080/"
        },
        "id": "YShjW6QMMsuS",
        "outputId": "8a5e7320-f5da-4f5c-c79a-4d07c07ed105"
      },
      "execution_count": null,
      "outputs": [
        {
          "output_type": "execute_result",
          "data": {
            "text/plain": [
              "tensor(0.0948)"
            ]
          },
          "metadata": {},
          "execution_count": 11
        }
      ]
    }
  ]
}